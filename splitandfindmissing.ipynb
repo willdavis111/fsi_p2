{
 "cells": [
  {
   "cell_type": "code",
   "execution_count": 1,
   "id": "19bb283a-de91-4fad-88b1-1004873f2f44",
   "metadata": {},
   "outputs": [],
   "source": [
    "import pandas as pd\n",
    "import numpy as np\n",
    "import matplotlib.pyplot as plt\n",
    "import datetime\n",
    "import os\n",
    "import calendar\n",
    "import math\n",
    "import xlsxwriter"
   ]
  },
  {
   "cell_type": "code",
   "execution_count": 2,
   "id": "37e13ae7-e5e6-4c05-9954-cbf5646c6f93",
   "metadata": {},
   "outputs": [],
   "source": [
    "# specific file paths\n",
    "wlb_2024 = r\"C:\\Users\\will.davis\\OneDrive - Fiore & Sons, Inc\\1A Data Analysys\\P2 Split Data by Est and Find missing estimates for followup fy2024\\source data\\2024 mm wlb just values.xlsx\"\n",
    "# folder paths\n",
    "ind_wlb_2024 = r\"C:\\Users\\will.davis\\OneDrive - Fiore & Sons, Inc\\1A Data Analysys\\P2 Split Data by Est and Find missing estimates for followup fy2024\\Gnerated Data\\ind_est_wlb\""
   ]
  },
  {
   "cell_type": "code",
   "execution_count": 4,
   "id": "b0926590-3b6b-4324-8cef-21c2618b55f1",
   "metadata": {},
   "outputs": [
    {
     "name": "stdout",
     "output_type": "stream",
     "text": [
      "C:\\Users\\will.davis\\OneDrive - Fiore & Sons, Inc\\1A Data Analysys\\P2 Split Data by Est and Find missing estimates for followup fy2024\\Gnerated Data\\ind_est_wlbWill Mcclure.xlsx\n",
      "C:\\Users\\will.davis\\OneDrive - Fiore & Sons, Inc\\1A Data Analysys\\P2 Split Data by Est and Find missing estimates for followup fy2024\\Gnerated Data\\ind_est_wlbJoel Holland.xlsx\n",
      "C:\\Users\\will.davis\\OneDrive - Fiore & Sons, Inc\\1A Data Analysys\\P2 Split Data by Est and Find missing estimates for followup fy2024\\Gnerated Data\\ind_est_wlbRob Slauson.xlsx\n",
      "C:\\Users\\will.davis\\OneDrive - Fiore & Sons, Inc\\1A Data Analysys\\P2 Split Data by Est and Find missing estimates for followup fy2024\\Gnerated Data\\ind_est_wlbAl Barker.xlsx\n",
      "C:\\Users\\will.davis\\OneDrive - Fiore & Sons, Inc\\1A Data Analysys\\P2 Split Data by Est and Find missing estimates for followup fy2024\\Gnerated Data\\ind_est_wlbAngie Cole.xlsx\n",
      "C:\\Users\\will.davis\\OneDrive - Fiore & Sons, Inc\\1A Data Analysys\\P2 Split Data by Est and Find missing estimates for followup fy2024\\Gnerated Data\\ind_est_wlbNeil O'Grady.xlsx\n",
      "C:\\Users\\will.davis\\OneDrive - Fiore & Sons, Inc\\1A Data Analysys\\P2 Split Data by Est and Find missing estimates for followup fy2024\\Gnerated Data\\ind_est_wlbGarrett Hammers.xlsx\n",
      "C:\\Users\\will.davis\\OneDrive - Fiore & Sons, Inc\\1A Data Analysys\\P2 Split Data by Est and Find missing estimates for followup fy2024\\Gnerated Data\\ind_est_wlbConner Spinar.xlsx\n",
      "C:\\Users\\will.davis\\OneDrive - Fiore & Sons, Inc\\1A Data Analysys\\P2 Split Data by Est and Find missing estimates for followup fy2024\\Gnerated Data\\ind_est_wlbRyan Frank.xlsx\n",
      "C:\\Users\\will.davis\\OneDrive - Fiore & Sons, Inc\\1A Data Analysys\\P2 Split Data by Est and Find missing estimates for followup fy2024\\Gnerated Data\\ind_est_wlbTrevor Lepke.xlsx\n"
     ]
    }
   ],
   "source": [
    "# Split wlb data by estimator and save to generated data file \n",
    "df = pd.read_excel(wlb_2024)\n",
    "names = set(df['Estimator'])\n",
    "end = \".xlsx\"\n",
    "for name in names:\n",
    "    ind_path = ind_wlb_2024 + name + end \n",
    "    print(ind_path)\n",
    "    # sub_set = df[df['Estimator' == name]]\n",
    "    # writer = pd.ExcelWriter(ind_path, engine=\"xlsxwriter\")\n",
    "    # sub_set.to_excel(writer, sheet_name=\"bids\")\n",
    "    # writer.close()\n"
   ]
  },
  {
   "cell_type": "code",
   "execution_count": null,
   "id": "92158a0b-00f0-4802-9a40-0f53dc1c4b69",
   "metadata": {},
   "outputs": [],
   "source": []
  },
  {
   "cell_type": "code",
   "execution_count": null,
   "id": "6c24ca3b-aaf2-4740-ab41-b9b070961d05",
   "metadata": {},
   "outputs": [],
   "source": []
  },
  {
   "cell_type": "code",
   "execution_count": null,
   "id": "70ada48b-8158-46b2-9a8a-d74931fc5a1d",
   "metadata": {},
   "outputs": [],
   "source": []
  },
  {
   "cell_type": "markdown",
   "id": "830ec017-0e7a-491a-b342-e70ba09d7f18",
   "metadata": {},
   "source": [
    "### Data set of 2024 bid that are not defined as wlb "
   ]
  },
  {
   "cell_type": "code",
   "execution_count": null,
   "id": "75a8f98e-8061-4950-8a4c-66a91e34af6d",
   "metadata": {},
   "outputs": [],
   "source": [
    "# specific file paths\n",
    "wlb_2024 = \"\"\n",
    "# folder paths\n",
    "\n",
    "\n"
   ]
  },
  {
   "cell_type": "code",
   "execution_count": null,
   "id": "b4073ff3-d17a-4f5c-8338-665f6f929121",
   "metadata": {},
   "outputs": [],
   "source": []
  },
  {
   "cell_type": "code",
   "execution_count": null,
   "id": "4fe6d19e-aa32-4401-953e-a0057f50ad1e",
   "metadata": {},
   "outputs": [],
   "source": []
  },
  {
   "cell_type": "code",
   "execution_count": null,
   "id": "7f2fa240-32e6-4f0d-8c45-61e2cc292254",
   "metadata": {},
   "outputs": [],
   "source": []
  },
  {
   "cell_type": "code",
   "execution_count": null,
   "id": "5bc5b03c-5834-41cc-a0b0-d3b1622247c6",
   "metadata": {},
   "outputs": [],
   "source": []
  },
  {
   "cell_type": "code",
   "execution_count": null,
   "id": "30fbc540-b1cd-4c55-b64d-38cec407296a",
   "metadata": {},
   "outputs": [],
   "source": []
  }
 ],
 "metadata": {
  "kernelspec": {
   "display_name": "Python 3 (ipykernel)",
   "language": "python",
   "name": "python3"
  },
  "language_info": {
   "codemirror_mode": {
    "name": "ipython",
    "version": 3
   },
   "file_extension": ".py",
   "mimetype": "text/x-python",
   "name": "python",
   "nbconvert_exporter": "python",
   "pygments_lexer": "ipython3",
   "version": "3.12.7"
  }
 },
 "nbformat": 4,
 "nbformat_minor": 5
}
